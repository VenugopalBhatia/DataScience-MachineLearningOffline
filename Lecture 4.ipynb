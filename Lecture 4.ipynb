{
 "cells": [
  {
   "cell_type": "markdown",
   "metadata": {},
   "source": [
    "Using data from .txt and .csv files\n",
    "+ Using python inbuilt functions\n",
    "+ Current path ke relative is relative path\n",
    "+ A->B->C->D->E(FILES)\n",
    "              ->X\n",
    "  open('x')\n",
    "+ open(file,mode)\n",
    "+ default mode is read\n",
    "+ mode maybe read(r), write(w) or append(a)\n",
    "+ read method to get all content. argument in read is no. of bytes to read, char is one byte. file takes everything as char.\n",
    "+ readline() reads until '\\n' by default. It is mindful to always read the next line when called. If no. of characters is passed it gives just those many characters in  first line but it reads from that point only in next line.\n",
    "+ readlines() gets all lines as a list.\n",
    "+ Using with automatically closes file once it is out of the with.\n",
    "+ all objects are iterable in python.\n",
    "\n",
    "\n"
   ]
  },
  {
   "cell_type": "code",
   "execution_count": 10,
   "metadata": {
    "scrolled": true
   },
   "outputs": [
    {
     "name": "stdout",
     "output_type": "stream",
     "text": [
      "ab\n",
      "<class 'str'>\n"
     ]
    }
   ],
   "source": [
    "file_obj = open(r'C:\\Users\\venug\\Desktop\\Sample.txt',mode = 'r')\n",
    "type(file_obj)\n",
    "file_data = file_obj.read(2)\n",
    "print(file_data)\n",
    "print(type(file_data))\n",
    "file_obj.close()"
   ]
  },
  {
   "cell_type": "markdown",
   "metadata": {},
   "source": [
    "import csv\n",
    "file_obj = open(r'C:\\Users\\venug\\Desktop\\Sample.txt',mode = 'r')\n",
    "data = csv.reader(file_obj,delimiter = '|',skipinitialspace = True)\n",
    "\n",
    "skipinitialspace removes initial space after the comma.\n",
    "\n",
    "csv.dictreader()\n",
    "iterable object\n",
    "\n",
    "\n",
    "\n",
    "\n",
    "\n",
    "\n",
    "\n",
    "\n",
    "\n",
    "\n",
    "\n",
    "\n",
    "\n",
    "\n",
    "\n",
    "\n"
   ]
  },
  {
   "cell_type": "code",
   "execution_count": 2,
   "metadata": {},
   "outputs": [],
   "source": [
    "import csv\n",
    "file_obj = open(r'C:\\Users\\venug\\Downloads\\terrorismData.csv',mode = 'r')\n",
    "data = csv.DictReader(file_obj,skipinitialspace = True)\n",
    "\n",
    "for i in data:\n",
    "    print(i['Group'])"
   ]
  },
  {
   "cell_type": "code",
   "execution_count": null,
   "metadata": {},
   "outputs": [],
   "source": []
  },
  {
   "cell_type": "code",
   "execution_count": null,
   "metadata": {},
   "outputs": [],
   "source": []
  },
  {
   "cell_type": "code",
   "execution_count": null,
   "metadata": {},
   "outputs": [],
   "source": []
  },
  {
   "cell_type": "code",
   "execution_count": null,
   "metadata": {},
   "outputs": [],
   "source": []
  },
  {
   "cell_type": "code",
   "execution_count": null,
   "metadata": {},
   "outputs": [],
   "source": []
  },
  {
   "cell_type": "code",
   "execution_count": null,
   "metadata": {},
   "outputs": [],
   "source": []
  },
  {
   "cell_type": "code",
   "execution_count": null,
   "metadata": {},
   "outputs": [],
   "source": []
  },
  {
   "cell_type": "code",
   "execution_count": null,
   "metadata": {},
   "outputs": [],
   "source": []
  },
  {
   "cell_type": "code",
   "execution_count": null,
   "metadata": {},
   "outputs": [],
   "source": []
  },
  {
   "cell_type": "code",
   "execution_count": null,
   "metadata": {},
   "outputs": [],
   "source": []
  },
  {
   "cell_type": "code",
   "execution_count": null,
   "metadata": {},
   "outputs": [],
   "source": []
  },
  {
   "cell_type": "code",
   "execution_count": null,
   "metadata": {},
   "outputs": [],
   "source": []
  }
 ],
 "metadata": {
  "kernelspec": {
   "display_name": "Python 3",
   "language": "python",
   "name": "python3"
  },
  "language_info": {
   "codemirror_mode": {
    "name": "ipython",
    "version": 3
   },
   "file_extension": ".py",
   "mimetype": "text/x-python",
   "name": "python",
   "nbconvert_exporter": "python",
   "pygments_lexer": "ipython3",
   "version": "3.6.5"
  }
 },
 "nbformat": 4,
 "nbformat_minor": 2
}
