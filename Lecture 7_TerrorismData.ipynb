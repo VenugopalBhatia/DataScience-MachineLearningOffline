{
 "cells": [
  {
   "cell_type": "code",
   "execution_count": 38,
   "metadata": {},
   "outputs": [
    {
     "data": {
      "text/plain": [
       "214.0"
      ]
     },
     "execution_count": 38,
     "metadata": {},
     "output_type": "execute_result"
    }
   ],
   "source": [
    "import pandas as pd\n",
    "import numpy as np\n",
    "\n",
    "data = pd.read_csv(r'C:\\Users\\venug\\Downloads\\pdTerrorismData.csv',skipinitialspace = True)\n",
    "\n",
    "data.describe()\n",
    "ind = data[(data.Country=='India') & (data.Weapon_type =='Firearms')]\n",
    "#ind.dropna\n",
    "#t = data[(data.Group =='Maoists')]\n",
    "\n",
    "s = ind.Killed.sum()\n",
    "\n",
    "s\n"
   ]
  },
  {
   "cell_type": "code",
   "execution_count": 114,
   "metadata": {},
   "outputs": [
    {
     "name": "stdout",
     "output_type": "stream",
     "text": [
      "Kuneru 95.0\n"
     ]
    }
   ],
   "source": [
    "India = data[data.Country == 'India']\n",
    "t = India.groupby(by = India.Group).Killed.sum()\n",
    "c = India.groupby(by = India.city).casualities.sum()\n",
    "print(c.idxmax(),c.max())\n",
    "c[c.values == 95.0]\n",
    "c.loc['Bangaluru'] = 0.0\n",
    "c.drop('Bangaluru',inplace = True)"
   ]
  },
  {
   "cell_type": "markdown",
   "metadata": {},
   "source": [
    "+ index returns true index while writing code like df.drop(0) means we are droppping by label.\n",
    "+ iloc works on index while loc works on labels.\n",
    "+ drop always works outplace by default. We have to mention explicitly to make changes inplace as inplace = True\n"
   ]
  },
  {
   "cell_type": "markdown",
   "metadata": {},
   "source": [
    "### append() function\n",
    "+ df.append() : Can take dict, series or dataframe.\n",
    "+ We have to give ignore_index = True compulsarily. Also df.append() works on index labels again. It makes its own labels.\n"
   ]
  },
  {
   "cell_type": "code",
   "execution_count": null,
   "metadata": {},
   "outputs": [],
   "source": []
  },
  {
   "cell_type": "code",
   "execution_count": null,
   "metadata": {},
   "outputs": [],
   "source": []
  },
  {
   "cell_type": "code",
   "execution_count": null,
   "metadata": {},
   "outputs": [],
   "source": []
  },
  {
   "cell_type": "code",
   "execution_count": null,
   "metadata": {},
   "outputs": [],
   "source": []
  },
  {
   "cell_type": "code",
   "execution_count": null,
   "metadata": {},
   "outputs": [],
   "source": []
  }
 ],
 "metadata": {
  "kernelspec": {
   "display_name": "Python 3",
   "language": "python",
   "name": "python3"
  },
  "language_info": {
   "codemirror_mode": {
    "name": "ipython",
    "version": 3
   },
   "file_extension": ".py",
   "mimetype": "text/x-python",
   "name": "python",
   "nbconvert_exporter": "python",
   "pygments_lexer": "ipython3",
   "version": "3.6.5"
  }
 },
 "nbformat": 4,
 "nbformat_minor": 2
}
