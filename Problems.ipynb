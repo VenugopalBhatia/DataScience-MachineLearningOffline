{
 "cells": [
  {
   "cell_type": "code",
   "execution_count": 6,
   "metadata": {},
   "outputs": [
    {
     "name": "stdout",
     "output_type": "stream",
     "text": [
      "5\n",
      "[[1, 2, 3, 4, 5], [6, 7, 8, 9, 10], [11, 12, 13, 14, 15], [16, 17, 18, 19, 20], [21, 22, 23, 24, 25]]\n"
     ]
    }
   ],
   "source": [
    "number = int(input())\n",
    "list = []\n",
    "counter = 1\n",
    "for i in range(number):\n",
    "    t = []\n",
    "    for i in range(number):\n",
    "        t.append(counter)\n",
    "        counter+=1\n",
    "    list.append(t)\n",
    "print(list)"
   ]
  },
  {
   "cell_type": "code",
   "execution_count": 13,
   "metadata": {},
   "outputs": [
    {
     "name": "stdout",
     "output_type": "stream",
     "text": [
      "1 2 3 4 5\n",
      "11 12 13 14 15\n",
      "21 22 23 24 25\n",
      "16 17 18 19 20\n",
      "6 7 8 9 10\n"
     ]
    }
   ],
   "source": [
    "i = 0\n",
    "if len(list)%2:\n",
    "    j = len(list) - 2\n",
    "else:\n",
    "    j = len(list) - 1\n",
    "for s in range(len(list)):\n",
    "    while i < len(list):\n",
    "        print(*list[i])\n",
    "        i+=2\n",
    "    while j > 0:\n",
    "        print(*list[j])\n",
    "        j-=2\n",
    "    "
   ]
  },
  {
   "cell_type": "code",
   "execution_count": 17,
   "metadata": {},
   "outputs": [
    {
     "name": "stdout",
     "output_type": "stream",
     "text": [
      "5\n",
      "*****\n",
      "\n",
      " ****\n",
      "\n",
      "  ***\n",
      "\n",
      "   **\n",
      "\n",
      "    *\n",
      "\n"
     ]
    }
   ],
   "source": [
    "t = int(input())\n",
    "counter = t\n",
    "for i in range(t):\n",
    "    for i in range(t-counter):\n",
    "        print(' ',end = '')\n",
    "    for j in range(counter):\n",
    "        print('*',end = '')\n",
    "    print('\\n')\n",
    "    counter-=1\n",
    "    "
   ]
  },
  {
   "cell_type": "code",
   "execution_count": 28,
   "metadata": {},
   "outputs": [
    {
     "name": "stdout",
     "output_type": "stream",
     "text": [
      "6\n",
      "34 -50 42 14 -5 86\n",
      "137\n"
     ]
    }
   ],
   "source": [
    "n = int(input())\n",
    "values = input().split()\n",
    "li = []\n",
    "for i in range(n):\n",
    "    li.append(int(values[i]))\n",
    "\n",
    "def summation(li,i,j):\n",
    "    s = 0\n",
    "    for t in range(i,j+1):\n",
    "        s+=li[t]\n",
    "    return s\n",
    "def shifter(li,i,j):\n",
    "    if li[i] < li[j]:\n",
    "        i+=1\n",
    "    else:\n",
    "        j-=1\n",
    "    return i,j\n",
    "max = 0\n",
    "i = 0\n",
    "j = n-1\n",
    "for t in range(n):\n",
    "    w = summation(li,i,j)\n",
    "    if w > max:\n",
    "        max = w\n",
    "    i,j = shifter(li,i,j)\n",
    "print(max)    "
   ]
  },
  {
   "cell_type": "code",
   "execution_count": null,
   "metadata": {},
   "outputs": [],
   "source": [
    "def swap(arr,i,j):\n",
    "    \n",
    "    "
   ]
  },
  {
   "cell_type": "code",
   "execution_count": null,
   "metadata": {},
   "outputs": [],
   "source": []
  },
  {
   "cell_type": "code",
   "execution_count": null,
   "metadata": {},
   "outputs": [],
   "source": []
  },
  {
   "cell_type": "code",
   "execution_count": null,
   "metadata": {},
   "outputs": [],
   "source": []
  },
  {
   "cell_type": "code",
   "execution_count": null,
   "metadata": {},
   "outputs": [],
   "source": []
  }
 ],
 "metadata": {
  "kernelspec": {
   "display_name": "Python 3",
   "language": "python",
   "name": "python3"
  },
  "language_info": {
   "codemirror_mode": {
    "name": "ipython",
    "version": 3
   },
   "file_extension": ".py",
   "mimetype": "text/x-python",
   "name": "python",
   "nbconvert_exporter": "python",
   "pygments_lexer": "ipython3",
   "version": "3.6.5"
  }
 },
 "nbformat": 4,
 "nbformat_minor": 2
}
