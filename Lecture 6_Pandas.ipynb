{
 "cells": [
  {
   "cell_type": "markdown",
   "metadata": {},
   "source": [
    "+ Pandas very column oriented.\n",
    "+ It uses numpy internally.\n",
    "+ read_csv can read csvs from online or or from local path as well.\n",
    "+ It assumes the first row as column header by default.\n",
    "+ head() for top results and tail() for results from the bottom, sample() for random results from the dataframe.\n",
    "+ shape tells us the dimensions of the dataframe.\n",
    "+ columns for assigning our own columns.\n",
    "+ dtypes tells type of data in datatframe columns.\n",
    "+ describe: VImp function, it gives insights for float type data. Can change percentiles by mentioning in arguments.\n",
    "+ it works with columns rather than rows. So iris[0] doesn't work but iris['sw']/iris.sw give the columns. By default pandas works with columns.\n",
    "+ iris['sw][1] column ka name first followed by row no.\n",
    "+ iloc works more like the way we think row followed by column.\n",
    "+ np.nan represents missing values.\n",
    "+ Never set missing values based on output. One has to use same strategies for training data and actual data on which we require predictions.\n",
    "+ fillna is used to fill NaN values but it doesnt put those values in place of actual values, which is why we need inplace = True as option.\n",
    "+ Single column of a Dataframe is a series.\n",
    "+ iris.mean() gives mean of all individual columns.\n",
    "+ iris.dropna() drops rows with NaN values.\n",
    "+ iris.reset_index() for new index, drop=True drops existing index, also we need to use inplace = True.\n",
    "+ .index for indices of query.\n",
    "+ .tolist() to make  a list of a series.\n",
    "+ the iris[type == 'Iris Setosa'] will again be a data frame whose statistics may be derived from describe.\n",
    "+ del iris['sl] deletes the column for Sepal length.\n",
    "+ iris['abc'] = iris.sw = Creates a copy of that column and adds as new column into dataframe.\n",
    "\n",
    "\n",
    "\n"
   ]
  },
  {
   "cell_type": "code",
   "execution_count": 4,
   "metadata": {},
   "outputs": [
    {
     "ename": "AttributeError",
     "evalue": "'DataFrame' object has no attribute 'type'",
     "output_type": "error",
     "traceback": [
      "\u001b[1;31m---------------------------------------------------------------------------\u001b[0m",
      "\u001b[1;31mAttributeError\u001b[0m                            Traceback (most recent call last)",
      "\u001b[1;32m<ipython-input-4-1d7284f2da7c>\u001b[0m in \u001b[0;36m<module>\u001b[1;34m()\u001b[0m\n\u001b[0;32m      6\u001b[0m \u001b[1;33m\u001b[0m\u001b[0m\n\u001b[0;32m      7\u001b[0m \u001b[0mt\u001b[0m\u001b[1;33m=\u001b[0m\u001b[0miris\u001b[0m\u001b[1;33m.\u001b[0m\u001b[0mdescribe\u001b[0m\u001b[1;33m(\u001b[0m\u001b[1;33m)\u001b[0m\u001b[1;33m\u001b[0m\u001b[0m\n\u001b[1;32m----> 8\u001b[1;33m \u001b[0mt\u001b[0m\u001b[1;33m.\u001b[0m\u001b[0mtype\u001b[0m\u001b[1;33m(\u001b[0m\u001b[1;33m)\u001b[0m\u001b[1;33m\u001b[0m\u001b[0m\n\u001b[0m",
      "\u001b[1;32m~\\Anaconda3\\lib\\site-packages\\pandas\\core\\generic.py\u001b[0m in \u001b[0;36m__getattr__\u001b[1;34m(self, name)\u001b[0m\n\u001b[0;32m   4370\u001b[0m             \u001b[1;32mif\u001b[0m \u001b[0mself\u001b[0m\u001b[1;33m.\u001b[0m\u001b[0m_info_axis\u001b[0m\u001b[1;33m.\u001b[0m\u001b[0m_can_hold_identifiers_and_holds_name\u001b[0m\u001b[1;33m(\u001b[0m\u001b[0mname\u001b[0m\u001b[1;33m)\u001b[0m\u001b[1;33m:\u001b[0m\u001b[1;33m\u001b[0m\u001b[0m\n\u001b[0;32m   4371\u001b[0m                 \u001b[1;32mreturn\u001b[0m \u001b[0mself\u001b[0m\u001b[1;33m[\u001b[0m\u001b[0mname\u001b[0m\u001b[1;33m]\u001b[0m\u001b[1;33m\u001b[0m\u001b[0m\n\u001b[1;32m-> 4372\u001b[1;33m             \u001b[1;32mreturn\u001b[0m \u001b[0mobject\u001b[0m\u001b[1;33m.\u001b[0m\u001b[0m__getattribute__\u001b[0m\u001b[1;33m(\u001b[0m\u001b[0mself\u001b[0m\u001b[1;33m,\u001b[0m \u001b[0mname\u001b[0m\u001b[1;33m)\u001b[0m\u001b[1;33m\u001b[0m\u001b[0m\n\u001b[0m\u001b[0;32m   4373\u001b[0m \u001b[1;33m\u001b[0m\u001b[0m\n\u001b[0;32m   4374\u001b[0m     \u001b[1;32mdef\u001b[0m \u001b[0m__setattr__\u001b[0m\u001b[1;33m(\u001b[0m\u001b[0mself\u001b[0m\u001b[1;33m,\u001b[0m \u001b[0mname\u001b[0m\u001b[1;33m,\u001b[0m \u001b[0mvalue\u001b[0m\u001b[1;33m)\u001b[0m\u001b[1;33m:\u001b[0m\u001b[1;33m\u001b[0m\u001b[0m\n",
      "\u001b[1;31mAttributeError\u001b[0m: 'DataFrame' object has no attribute 'type'"
     ]
    }
   ],
   "source": [
    "import pandas as pd\n",
    "import numpy as np\n",
    "\n",
    "iris = pd.read_csv('https://archive.ics.uci.edu/ml/machine-learning-databases/iris/iris.data',header = None)\n",
    "# iris = data object\n",
    "\n",
    "\n"
   ]
  },
  {
   "cell_type": "code",
   "execution_count": 57,
   "metadata": {},
   "outputs": [
    {
     "name": "stdout",
     "output_type": "stream",
     "text": [
      "              sw         sl         pw         pl\n",
      "count  50.000000  50.000000  50.000000  50.000000\n",
      "mean    5.936000   2.770000   4.260000   1.326000\n",
      "std     0.516171   0.313798   0.469911   0.197753\n",
      "min     4.900000   2.000000   3.000000   1.000000\n",
      "25%     5.600000   2.525000   4.000000   1.200000\n",
      "50%     5.900000   2.800000   4.350000   1.300000\n",
      "75%     6.300000   3.000000   4.600000   1.500000\n",
      "max     7.000000   3.400000   5.100000   1.800000\n",
      "             sw         sl         pw        pl\n",
      "count  50.00000  50.000000  50.000000  50.00000\n",
      "mean    6.58800   2.974000   5.552000   2.02600\n",
      "std     0.63588   0.322497   0.551895   0.27465\n",
      "min     4.90000   2.200000   4.500000   1.40000\n",
      "25%     6.22500   2.800000   5.100000   1.80000\n",
      "50%     6.50000   3.000000   5.550000   2.00000\n",
      "75%     6.90000   3.175000   5.875000   2.30000\n",
      "max     7.90000   3.800000   6.900000   2.50000\n",
      "             sw         sl         pw        pl\n",
      "count  50.00000  50.000000  50.000000  50.00000\n",
      "mean    5.00600   3.418000   1.464000   0.24400\n",
      "std     0.35249   0.381024   0.173511   0.10721\n",
      "min     4.30000   2.300000   1.000000   0.10000\n",
      "25%     4.80000   3.125000   1.400000   0.20000\n",
      "50%     5.00000   3.400000   1.500000   0.20000\n",
      "75%     5.20000   3.675000   1.575000   0.30000\n",
      "max     5.80000   4.400000   1.900000   0.60000\n"
     ]
    }
   ],
   "source": [
    "total = iris.describe()\n",
    "type(total)\n",
    "total\n",
    "iris.columns = ['sw','sl','pw','pl','type']\n",
    "iris.head()\n",
    "\n",
    "\n",
    "setosa = iris[iris.type=='Iris-setosa']\n",
    "setdes = setosa.describe()\n",
    "setMean = setdes.iloc[1].tolist\n",
    "setMean\n",
    "\n",
    "versicolor = iris[iris.type=='Iris-versicolor']\n",
    "virginica = iris[iris.type=='Iris-virginica']\n",
    "iris.type.unique()\n",
    "vcdes = versicolor.describe()\n",
    "virdes = virginica.describe()\n",
    "\n",
    "print(vcdes)\n",
    "print(virdes)\n",
    "print(setdes)\n",
    "\n",
    "\n",
    "\n"
   ]
  },
  {
   "cell_type": "code",
   "execution_count": 24,
   "metadata": {},
   "outputs": [
    {
     "data": {
      "text/html": [
       "<div>\n",
       "<style scoped>\n",
       "    .dataframe tbody tr th:only-of-type {\n",
       "        vertical-align: middle;\n",
       "    }\n",
       "\n",
       "    .dataframe tbody tr th {\n",
       "        vertical-align: top;\n",
       "    }\n",
       "\n",
       "    .dataframe thead th {\n",
       "        text-align: right;\n",
       "    }\n",
       "</style>\n",
       "<table border=\"1\" class=\"dataframe\">\n",
       "  <thead>\n",
       "    <tr style=\"text-align: right;\">\n",
       "      <th></th>\n",
       "      <th>sw</th>\n",
       "      <th>sl</th>\n",
       "      <th>pw</th>\n",
       "      <th>pl</th>\n",
       "      <th>type</th>\n",
       "    </tr>\n",
       "  </thead>\n",
       "  <tbody>\n",
       "    <tr>\n",
       "      <th>0</th>\n",
       "      <td>5.1</td>\n",
       "      <td>3.5</td>\n",
       "      <td>1.4</td>\n",
       "      <td>0.2</td>\n",
       "      <td>Iris-setosa</td>\n",
       "    </tr>\n",
       "    <tr>\n",
       "      <th>1</th>\n",
       "      <td>4.9</td>\n",
       "      <td>3.0</td>\n",
       "      <td>1.4</td>\n",
       "      <td>0.2</td>\n",
       "      <td>Iris-setosa</td>\n",
       "    </tr>\n",
       "    <tr>\n",
       "      <th>2</th>\n",
       "      <td>4.7</td>\n",
       "      <td>3.2</td>\n",
       "      <td>1.3</td>\n",
       "      <td>0.2</td>\n",
       "      <td>Iris-setosa</td>\n",
       "    </tr>\n",
       "    <tr>\n",
       "      <th>3</th>\n",
       "      <td>4.6</td>\n",
       "      <td>3.1</td>\n",
       "      <td>1.5</td>\n",
       "      <td>0.2</td>\n",
       "      <td>Iris-setosa</td>\n",
       "    </tr>\n",
       "    <tr>\n",
       "      <th>4</th>\n",
       "      <td>5.0</td>\n",
       "      <td>3.6</td>\n",
       "      <td>1.4</td>\n",
       "      <td>0.2</td>\n",
       "      <td>Iris-setosa</td>\n",
       "    </tr>\n",
       "  </tbody>\n",
       "</table>\n",
       "</div>"
      ],
      "text/plain": [
       "    sw   sl   pw   pl         type\n",
       "0  5.1  3.5  1.4  0.2  Iris-setosa\n",
       "1  4.9  3.0  1.4  0.2  Iris-setosa\n",
       "2  4.7  3.2  1.3  0.2  Iris-setosa\n",
       "3  4.6  3.1  1.5  0.2  Iris-setosa\n",
       "4  5.0  3.6  1.4  0.2  Iris-setosa"
      ]
     },
     "execution_count": 24,
     "metadata": {},
     "output_type": "execute_result"
    }
   ],
   "source": [
    "iris.head()"
   ]
  },
  {
   "cell_type": "code",
   "execution_count": null,
   "metadata": {},
   "outputs": [],
   "source": []
  },
  {
   "cell_type": "code",
   "execution_count": null,
   "metadata": {},
   "outputs": [],
   "source": []
  },
  {
   "cell_type": "code",
   "execution_count": null,
   "metadata": {},
   "outputs": [],
   "source": []
  },
  {
   "cell_type": "code",
   "execution_count": null,
   "metadata": {},
   "outputs": [],
   "source": []
  },
  {
   "cell_type": "code",
   "execution_count": null,
   "metadata": {},
   "outputs": [],
   "source": []
  },
  {
   "cell_type": "code",
   "execution_count": null,
   "metadata": {},
   "outputs": [],
   "source": []
  },
  {
   "cell_type": "code",
   "execution_count": null,
   "metadata": {},
   "outputs": [],
   "source": []
  },
  {
   "cell_type": "code",
   "execution_count": null,
   "metadata": {},
   "outputs": [],
   "source": []
  }
 ],
 "metadata": {
  "kernelspec": {
   "display_name": "Python 3",
   "language": "python",
   "name": "python3"
  },
  "language_info": {
   "codemirror_mode": {
    "name": "ipython",
    "version": 3
   },
   "file_extension": ".py",
   "mimetype": "text/x-python",
   "name": "python",
   "nbconvert_exporter": "python",
   "pygments_lexer": "ipython3",
   "version": "3.6.5"
  }
 },
 "nbformat": 4,
 "nbformat_minor": 2
}
