{
 "cells": [
  {
   "cell_type": "code",
   "execution_count": 1,
   "metadata": {},
   "outputs": [
    {
     "data": {
      "text/plain": [
       "4"
      ]
     },
     "execution_count": 1,
     "metadata": {},
     "output_type": "execute_result"
    }
   ],
   "source": [
    "2^6"
   ]
  },
  {
   "cell_type": "code",
   "execution_count": 7,
   "metadata": {},
   "outputs": [
    {
     "name": "stdout",
     "output_type": "stream",
     "text": [
      "success\n"
     ]
    }
   ],
   "source": [
    "t='success'\n",
    "print(t[0:7])"
   ]
  },
  {
   "cell_type": "code",
   "execution_count": 9,
   "metadata": {},
   "outputs": [
    {
     "ename": "NameError",
     "evalue": "name 'inf' is not defined",
     "output_type": "error",
     "traceback": [
      "\u001b[1;31m---------------------------------------------------------------------------\u001b[0m",
      "\u001b[1;31mNameError\u001b[0m                                 Traceback (most recent call last)",
      "\u001b[1;32m<ipython-input-9-80f8efbfb6f3>\u001b[0m in \u001b[0;36m<module>\u001b[1;34m()\u001b[0m\n\u001b[1;32m----> 1\u001b[1;33m \u001b[0mtype\u001b[0m\u001b[1;33m(\u001b[0m\u001b[0minf\u001b[0m\u001b[1;33m)\u001b[0m\u001b[1;33m\u001b[0m\u001b[0m\n\u001b[0m",
      "\u001b[1;31mNameError\u001b[0m: name 'inf' is not defined"
     ]
    }
   ],
   "source": [
    "type(inf)\n"
   ]
  },
  {
   "cell_type": "code",
   "execution_count": 11,
   "metadata": {},
   "outputs": [
    {
     "name": "stdout",
     "output_type": "stream",
     "text": [
      "5\n",
      "9\n"
     ]
    }
   ],
   "source": [
    "x = input()\n",
    "\n",
    "print(int(x)+4) "
   ]
  },
  {
   "cell_type": "code",
   "execution_count": 13,
   "metadata": {},
   "outputs": [
    {
     "name": "stdout",
     "output_type": "stream",
     "text": [
      "E\n"
     ]
    },
    {
     "ename": "TypeError",
     "evalue": "'>' not supported between instances of 'str' and 'int'",
     "output_type": "error",
     "traceback": [
      "\u001b[1;31m---------------------------------------------------------------------------\u001b[0m",
      "\u001b[1;31mTypeError\u001b[0m                                 Traceback (most recent call last)",
      "\u001b[1;32m<ipython-input-13-00e2b279fd2d>\u001b[0m in \u001b[0;36m<module>\u001b[1;34m()\u001b[0m\n\u001b[0;32m      1\u001b[0m \u001b[0mx\u001b[0m \u001b[1;33m=\u001b[0m \u001b[0minput\u001b[0m\u001b[1;33m(\u001b[0m\u001b[1;33m)\u001b[0m\u001b[1;33m\u001b[0m\u001b[0m\n\u001b[1;32m----> 2\u001b[1;33m \u001b[1;32mif\u001b[0m\u001b[1;33m(\u001b[0m\u001b[0mx\u001b[0m \u001b[1;33m>\u001b[0m \u001b[1;36m65\u001b[0m \u001b[1;32mand\u001b[0m \u001b[0mx\u001b[0m \u001b[1;33m<\u001b[0m \u001b[1;36m90\u001b[0m\u001b[1;33m)\u001b[0m\u001b[1;33m:\u001b[0m\u001b[1;33m\u001b[0m\u001b[0m\n\u001b[0m\u001b[0;32m      3\u001b[0m   \u001b[0mprint\u001b[0m\u001b[1;33m(\u001b[0m\u001b[1;36m1\u001b[0m\u001b[1;33m)\u001b[0m\u001b[1;33m\u001b[0m\u001b[0m\n\u001b[0;32m      4\u001b[0m \u001b[1;32melif\u001b[0m\u001b[1;33m(\u001b[0m\u001b[0mx\u001b[0m \u001b[1;33m>\u001b[0m \u001b[1;36m97\u001b[0m \u001b[1;32mand\u001b[0m \u001b[0mx\u001b[0m \u001b[1;33m<\u001b[0m \u001b[1;36m122\u001b[0m\u001b[1;33m)\u001b[0m\u001b[1;33m:\u001b[0m\u001b[1;33m\u001b[0m\u001b[0m\n\u001b[0;32m      5\u001b[0m   \u001b[0mprint\u001b[0m\u001b[1;33m(\u001b[0m\u001b[1;36m0\u001b[0m\u001b[1;33m)\u001b[0m\u001b[1;33m\u001b[0m\u001b[0m\n",
      "\u001b[1;31mTypeError\u001b[0m: '>' not supported between instances of 'str' and 'int'"
     ]
    }
   ],
   "source": [
    "x = input()\n",
    "if(x > 65 and x < 90):\n",
    "  print(1)\n",
    "elif(x > 97 and x < 122):\n",
    "  print(0)\n",
    "else:\n",
    "  print(-1)\n"
   ]
  },
  {
   "cell_type": "code",
   "execution_count": 15,
   "metadata": {},
   "outputs": [
    {
     "name": "stdout",
     "output_type": "stream",
     "text": [
      "3 4 5 "
     ]
    }
   ],
   "source": [
    "a = 3\n",
    "for i in range(a):\n",
    "    print(a, end=\" \")\n",
    "    a +=1"
   ]
  },
  {
   "cell_type": "code",
   "execution_count": 17,
   "metadata": {},
   "outputs": [
    {
     "name": "stdout",
     "output_type": "stream",
     "text": [
      "3\n",
      "333\n",
      "\n",
      "233\n",
      "\n",
      "133\n",
      "\n"
     ]
    }
   ],
   "source": [
    "x = int(input())\n",
    "\n",
    "for i in range(x):\n",
    "  print(x-i,end='')\n",
    "  for j in range(x-1):\n",
    "    print(x,end='')\n",
    "  print('\\n')"
   ]
  },
  {
   "cell_type": "code",
   "execution_count": 19,
   "metadata": {},
   "outputs": [
    {
     "name": "stdout",
     "output_type": "stream",
     "text": [
      "5\n",
      "[5, 5, 5, 5, 5]\n",
      "\n",
      "\n",
      "4 [5, 5, 5, 5]\n",
      "\n",
      "3 [5, 5]3 [5, 5]\n",
      "\n",
      "2 []2 []2 []\n",
      "\n",
      "1 []1 []1 []1 []\n",
      "\n"
     ]
    }
   ],
   "source": [
    "x = int(input())\n",
    "l=[]\n",
    "for t in range(x):\n",
    "  l.append(x)\n",
    "print(l)\n",
    "for i in range(x):\n",
    "  l = l[i:]\n",
    "  for j in range(i):\n",
    "    print(x-i,l,end='')\n",
    "  print('\\n')\n",
    "  "
   ]
  },
  {
   "cell_type": "code",
   "execution_count": 20,
   "metadata": {},
   "outputs": [
    {
     "name": "stdout",
     "output_type": "stream",
     "text": [
      "4\n",
      "0\n",
      "1\n",
      "2\n",
      "3\n"
     ]
    }
   ],
   "source": [
    "x = int(input())\n",
    "\n",
    "for i in range(x):\n",
    "  print(i)\n"
   ]
  },
  {
   "cell_type": "code",
   "execution_count": 34,
   "metadata": {
    "scrolled": true
   },
   "outputs": [
    {
     "name": "stdout",
     "output_type": "stream",
     "text": [
      "7\n",
      "4\n",
      "  *\n",
      "\n",
      "   * *\n",
      "\n",
      "    * * *\n",
      "\n",
      "     * * * *\n",
      "\n",
      "    * * *\n",
      "\n",
      "   * *\n",
      "\n",
      "  *\n",
      "\n"
     ]
    }
   ],
   "source": [
    "x = int(input())\n",
    "print(x//2 +1)\n",
    "for i in range(x):\n",
    "    if i < x//2:\n",
    "        for j in range(i+1):\n",
    "            print(\" \",end = '')\n",
    "        for j in range(i+1):\n",
    "            print(' *',end = '')\n",
    "        #print('\\n')\n",
    "    else:\n",
    "        for j in range(x-i):\n",
    "            print(\" \",end = '')\n",
    "        for j in range(x-i):\n",
    "            print(' *',end = '')\n",
    "    print('\\n')\n",
    "      "
   ]
  },
  {
   "cell_type": "code",
   "execution_count": 14,
   "metadata": {},
   "outputs": [
    {
     "name": "stdout",
     "output_type": "stream",
     "text": [
      "8\n",
      "10\n"
     ]
    }
   ],
   "source": [
    "N = int(input())\n",
    "a=0\n",
    "b=2\n",
    "sum = a+b\n",
    "while(b<=N and 4*b + a <= N ):\n",
    "    c = 4*b + a\n",
    "    sum+=c\n",
    "    b=c\n",
    "    a=b\n",
    "print(sum)\n",
    "\n"
   ]
  },
  {
   "cell_type": "code",
   "execution_count": 19,
   "metadata": {},
   "outputs": [
    {
     "name": "stdout",
     "output_type": "stream",
     "text": [
      "8\n",
      "10\n"
     ]
    }
   ],
   "source": [
    "N = int(input())\n",
    "\n",
    "a=0\n",
    "b=2\n",
    "sum = a\n",
    "while(b <= N ):\n",
    "    sum+=b\n",
    "    if(4*b + a > N):\n",
    "        break\n",
    "    c = 4*b + a\n",
    "\n",
    "    b=c\n",
    "    a=b\n",
    "print(sum)\n",
    "\n"
   ]
  },
  {
   "cell_type": "code",
   "execution_count": 21,
   "metadata": {},
   "outputs": [
    {
     "name": "stdout",
     "output_type": "stream",
     "text": [
      "144\n",
      "188\n"
     ]
    }
   ],
   "source": [
    "N = int(input())\n",
    "\n",
    "a=0\n",
    "b=2\n",
    "sum = a\n",
    "while(b <= N ):\n",
    "    sum+=b\n",
    "    if(4*b + a > N):\n",
    "        break\n",
    "    c = 4*b + a\n",
    "    a=b\n",
    "    b=c\n",
    "    \n",
    "print(sum)"
   ]
  },
  {
   "cell_type": "code",
   "execution_count": null,
   "metadata": {},
   "outputs": [],
   "source": []
  }
 ],
 "metadata": {
  "kernelspec": {
   "display_name": "Python 3",
   "language": "python",
   "name": "python3"
  },
  "language_info": {
   "codemirror_mode": {
    "name": "ipython",
    "version": 3
   },
   "file_extension": ".py",
   "mimetype": "text/x-python",
   "name": "python",
   "nbconvert_exporter": "python",
   "pygments_lexer": "ipython3",
   "version": "3.6.5"
  }
 },
 "nbformat": 4,
 "nbformat_minor": 2
}
