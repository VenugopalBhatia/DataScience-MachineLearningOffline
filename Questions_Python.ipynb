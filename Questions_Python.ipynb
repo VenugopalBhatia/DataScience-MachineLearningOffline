{
 "cells": [
  {
   "cell_type": "code",
   "execution_count": 6,
   "metadata": {},
   "outputs": [
    {
     "name": "stdout",
     "output_type": "stream",
     "text": [
      "7\n",
      "1\n",
      "1\n",
      "1\n",
      "111\n"
     ]
    }
   ],
   "source": [
    "x = int(input())\n",
    "num = x\n",
    "count=0\n",
    "binary=0\n",
    "while(num!=0):\n",
    "  rem = num%2\n",
    "  binary+=rem*10**count\n",
    "  count+=1\n",
    "  num=num//2\n",
    "  \n",
    "print(binary)\n"
   ]
  },
  {
   "cell_type": "code",
   "execution_count": 5,
   "metadata": {},
   "outputs": [
    {
     "name": "stdout",
     "output_type": "stream",
     "text": [
      "2\n"
     ]
    }
   ],
   "source": [
    "num = 7\n",
    "print(num%5)"
   ]
  },
  {
   "cell_type": "code",
   "execution_count": 1,
   "metadata": {},
   "outputs": [
    {
     "name": "stdout",
     "output_type": "stream",
     "text": [
      "50\n",
      "pwr2:25\n",
      "t:12\n",
      "pwr2:37\n",
      "t:6\n",
      "pwr2:43\n",
      "t:3\n",
      "pwr2:46\n",
      "t:1\n",
      "pwr2:47\n",
      "t:0\n",
      "pwr5:10\n",
      "f:2\n",
      "pwr5:12\n",
      "f:0\n",
      "12\n",
      "pwr2:47 & pwr5:12\n"
     ]
    }
   ],
   "source": [
    "n = int(input())\n",
    "\n",
    "num = n\n",
    "count = 1\n",
    "pwr2=0\n",
    "pwr5=0\n",
    "t = num//2\n",
    "f = num//5\n",
    "while(t!=0):\n",
    "  pwr2+=t\n",
    "  #print('pwr2:{}'.format(pwr2))\n",
    "  count+=1\n",
    "  t = num//(2**count)\n",
    "  #print('t:{}'.format(t))\n",
    "count = 1\n",
    "while(f!=0):\n",
    "  pwr5+=f\n",
    "  #print('pwr5:{}'.format(pwr5))\n",
    "  count+=1\n",
    "  f = num//(5**count)\n",
    "  #print('f:{}'.format(f))\n",
    "if pwr5>=pwr2:\n",
    "  print(pwr2)\n",
    "else:\n",
    "  print(pwr5)\n",
    "\n",
    "#print('pwr2:{} & pwr5:{}'.format(pwr2,pwr5))"
   ]
  },
  {
   "cell_type": "code",
   "execution_count": null,
   "metadata": {},
   "outputs": [],
   "source": [
    "50//5"
   ]
  },
  {
   "cell_type": "code",
   "execution_count": 8,
   "metadata": {},
   "outputs": [
    {
     "name": "stdout",
     "output_type": "stream",
     "text": [
      "7\n",
      "-7 1 5 2 -4 3 0\n"
     ]
    },
    {
     "ename": "ValueError",
     "evalue": "invalid literal for int() with base 10: '-7 1 5 2 -4 3 0'",
     "output_type": "error",
     "traceback": [
      "\u001b[1;31m---------------------------------------------------------------------------\u001b[0m",
      "\u001b[1;31mValueError\u001b[0m                                Traceback (most recent call last)",
      "\u001b[1;32m<ipython-input-8-46968b591e6f>\u001b[0m in \u001b[0;36m<module>\u001b[1;34m()\u001b[0m\n\u001b[0;32m      5\u001b[0m \u001b[1;32mfor\u001b[0m \u001b[0mi\u001b[0m \u001b[1;32min\u001b[0m \u001b[0mrange\u001b[0m\u001b[1;33m(\u001b[0m\u001b[0mx\u001b[0m\u001b[1;33m)\u001b[0m\u001b[1;33m:\u001b[0m\u001b[1;33m\u001b[0m\u001b[0m\n\u001b[0;32m      6\u001b[0m     \u001b[1;31m#print(i)\u001b[0m\u001b[1;33m\u001b[0m\u001b[1;33m\u001b[0m\u001b[0m\n\u001b[1;32m----> 7\u001b[1;33m     \u001b[0mlst\u001b[0m\u001b[1;33m.\u001b[0m\u001b[0mappend\u001b[0m\u001b[1;33m(\u001b[0m\u001b[0mint\u001b[0m\u001b[1;33m(\u001b[0m\u001b[0minput\u001b[0m\u001b[1;33m(\u001b[0m\u001b[1;33m)\u001b[0m\u001b[1;33m)\u001b[0m\u001b[1;33m)\u001b[0m\u001b[1;33m\u001b[0m\u001b[0m\n\u001b[0m\u001b[0;32m      8\u001b[0m \u001b[0msuml\u001b[0m \u001b[1;33m=\u001b[0m \u001b[1;36m0\u001b[0m\u001b[1;33m\u001b[0m\u001b[0m\n\u001b[0;32m      9\u001b[0m \u001b[0msumr\u001b[0m \u001b[1;33m=\u001b[0m \u001b[1;36m0\u001b[0m\u001b[1;33m\u001b[0m\u001b[0m\n",
      "\u001b[1;31mValueError\u001b[0m: invalid literal for int() with base 10: '-7 1 5 2 -4 3 0'"
     ]
    }
   ],
   "source": [
    "x = int(input())\n",
    "\n",
    "lst = []\n",
    "\n",
    "for i in range(x):\n",
    "    #print(i)\n",
    "    lst.append(int(input()))\n",
    "suml = 0\n",
    "sumr = 0\n",
    "count = 0\n",
    "count2 = 0\n",
    "for j in range(x):\n",
    "  suml = 0\n",
    "  sumr = 0\n",
    "  for t in range(j):\n",
    "    suml+= lst[t]\n",
    "    count2+=1\n",
    "    #print('suml:{}'.format(suml))\n",
    "    sumr+= lst[7-t-1]\n",
    "    #print('sumr:{}'.format(sumr))\n",
    "  if sumr == suml and count==0 and count2!=0:\n",
    "    print(j)\n",
    "    count+=1\n",
    "if count==0:\n",
    "  print(-1)"
   ]
  },
  {
   "cell_type": "code",
   "execution_count": 10,
   "metadata": {},
   "outputs": [
    {
     "name": "stdout",
     "output_type": "stream",
     "text": [
      "7\n",
      "-7 1 5 2 -4 3 0\n",
      "[-7, 1, 5, 2, -4, 3, 0]\n"
     ]
    }
   ],
   "source": [
    "x = int(input())\n",
    "\n",
    "\n",
    "int_string = input()\n",
    "l= int_string.split(' ')\n",
    "lst = [int(i) for i in l]\n",
    "print(lst)"
   ]
  },
  {
   "cell_type": "code",
   "execution_count": 15,
   "metadata": {},
   "outputs": [
    {
     "name": "stdout",
     "output_type": "stream",
     "text": [
      "62214\n",
      "-3 20 7 1 29 -19 3 27 -11 24 2 20 -10 -14 -18 5 18 -25 22 19 4 -18 8 4 14 4 -18 -24 -12 -29 -5 5 -26 28 -7 16 -12 -12 27 11 9 29 -26 24 -11 -16 24 -5 4 -5 -5 -1 13 30 -2 8 8 -25 12 -22 16 9 14 -4 4 -25 3 29 -14 30 -27 22 -28 15 8 20 4 20 29 -8 8 -14 9 -14 -5 7 -19 -27 -15 5 30 -6 -15 2 3 -9 3 -12 15 -4 2 -5 -10 7 8 3 -6 -20 -1 -20 23 12 18 -24 15 -18 -6 -6 9 -4 -9 -26 24 -1 -23 1 -22 27 -1 -15 -23 -13 3 8 -12 20 27 13 -21 28 -7 16 -7 13 -29 -18 -19 -24 -28 -4 -20 20 18 2 1 -1 23 -1 -11 11 -25 -27 9 4 -24 16 -21 13 -20 23 0 -24 9 -24 26 5 -4 -11 7 -29 -9 -5 18 17 -4 21 -28 22 27 -10 10 -14 30 -1 15 -11 16 -12 11 3 7 -4 -20 9 -19 -24 1 3 15 -5 -26 -24 -18 2 26 23 -16 27 7 4 7 -11 17 -1 21 0 22 -27 19 12 3 20 -1 -7 6 11 -26 -17 5 -19 13 17 -15 3 19 15 -29 -9 9 -23 9 -14 -4 6 30 -22 -12 18 10 -16 -12 -13 3 3 25 -13 14 -19 -7 1 -15 -24 -25 -9 -14 26 -4 -13 10 -28 -12 12 -18 -28 9 30 -19 -9 5 26 -19 -4 -3 -10 -4 13 -19 -1 -19 -13 1 -23 24 16 -1 -13 1 14 -9 -12 30 6 16 30 13 -20 -26 -25 21 -29 -21 -6 -4 -17 -18 -5 17 -18 -17 14 -3 12 -2 19 20 11 24 16 18 -25 -23 26 -26 23 16 -7 28 -14 -26 -6 4 4 8 -25 -24 17 -27 -28 -22 18 -7 23 8 0 3 -25 -15 14 -18 -23 14 19 -29 -1 17 13 3 10 -13 6 22 -23 2 26 -27 -25 7 -3 -16 -3 0 2 -1 23 -20 -28 -13 -18 3 14 22 -22 -8 15 16 28 25 12 1 16 28 10 -25 14 -3 23 -17 -1 -3 8 28 18 29 -17 29 -26 27 -21 4 10 19 -2 -17 4 -21 -19 1 16 -7 2 -24 5 -25 -29 1 -21 10 -5 -4 13 1 29 -21 -2 13 -17 1 12 7 11 -25 21 -2 8 4 -27 30 13 -26 8 20 -9 20 -21 -10 -6 -21 28 0 3 -2 23 -24 18 -25 10 -28 7 11 11 -14 -22 28 27 -8 -10 24 -20 15 -13 -10 27 -5 -5 21 30 -12 -23 -1 30 22 -8 13 4 15 12 14 -12 27 -5 30 5 -24 9 14 -21 28 7 9 11 16 -9 -24 -19 22 -21 -6 18 23 -1 -26 -20 -21 -21 9 12 6 -4 27 -25 15 -20 -17 25 9 -12 -6 -28 21 -3 16 -15 22 4 26 9 18 -20 20 -12 -25 22 -15 -7 -12 -29 2 17 25 -20 -25 25 28 13 16 9 -26 -5 24 -15 -3 14 -27 -23 -6 -6 -1 -4 -18 21 6 -8 21 4 -16 29 -15 2 -9 -7 18 17 24 -5 3 -9 1 27 11 -5 17 \n"
     ]
    },
    {
     "ename": "ValueError",
     "evalue": "invalid literal for int() with base 10: ''",
     "output_type": "error",
     "traceback": [
      "\u001b[1;31m---------------------------------------------------------------------------\u001b[0m",
      "\u001b[1;31mValueError\u001b[0m                                Traceback (most recent call last)",
      "\u001b[1;32m<ipython-input-15-5ffec39fda3c>\u001b[0m in \u001b[0;36m<module>\u001b[1;34m()\u001b[0m\n\u001b[0;32m      4\u001b[0m \u001b[0mint_string\u001b[0m \u001b[1;33m=\u001b[0m \u001b[0minput\u001b[0m\u001b[1;33m(\u001b[0m\u001b[1;33m)\u001b[0m\u001b[1;33m\u001b[0m\u001b[0m\n\u001b[0;32m      5\u001b[0m \u001b[0ml\u001b[0m\u001b[1;33m=\u001b[0m \u001b[0mint_string\u001b[0m\u001b[1;33m.\u001b[0m\u001b[0msplit\u001b[0m\u001b[1;33m(\u001b[0m\u001b[1;34m' '\u001b[0m\u001b[1;33m)\u001b[0m\u001b[1;33m\u001b[0m\u001b[0m\n\u001b[1;32m----> 6\u001b[1;33m \u001b[0mlst\u001b[0m \u001b[1;33m=\u001b[0m \u001b[1;33m[\u001b[0m\u001b[0mint\u001b[0m\u001b[1;33m(\u001b[0m\u001b[0mi\u001b[0m\u001b[1;33m)\u001b[0m \u001b[1;32mfor\u001b[0m \u001b[0mi\u001b[0m \u001b[1;32min\u001b[0m \u001b[0ml\u001b[0m\u001b[1;33m]\u001b[0m\u001b[1;33m\u001b[0m\u001b[0m\n\u001b[0m\u001b[0;32m      7\u001b[0m \u001b[0msuml\u001b[0m \u001b[1;33m=\u001b[0m \u001b[1;36m0\u001b[0m\u001b[1;33m\u001b[0m\u001b[0m\n\u001b[0;32m      8\u001b[0m \u001b[0msumr\u001b[0m \u001b[1;33m=\u001b[0m \u001b[1;36m0\u001b[0m\u001b[1;33m\u001b[0m\u001b[0m\n",
      "\u001b[1;32m<ipython-input-15-5ffec39fda3c>\u001b[0m in \u001b[0;36m<listcomp>\u001b[1;34m(.0)\u001b[0m\n\u001b[0;32m      4\u001b[0m \u001b[0mint_string\u001b[0m \u001b[1;33m=\u001b[0m \u001b[0minput\u001b[0m\u001b[1;33m(\u001b[0m\u001b[1;33m)\u001b[0m\u001b[1;33m\u001b[0m\u001b[0m\n\u001b[0;32m      5\u001b[0m \u001b[0ml\u001b[0m\u001b[1;33m=\u001b[0m \u001b[0mint_string\u001b[0m\u001b[1;33m.\u001b[0m\u001b[0msplit\u001b[0m\u001b[1;33m(\u001b[0m\u001b[1;34m' '\u001b[0m\u001b[1;33m)\u001b[0m\u001b[1;33m\u001b[0m\u001b[0m\n\u001b[1;32m----> 6\u001b[1;33m \u001b[0mlst\u001b[0m \u001b[1;33m=\u001b[0m \u001b[1;33m[\u001b[0m\u001b[0mint\u001b[0m\u001b[1;33m(\u001b[0m\u001b[0mi\u001b[0m\u001b[1;33m)\u001b[0m \u001b[1;32mfor\u001b[0m \u001b[0mi\u001b[0m \u001b[1;32min\u001b[0m \u001b[0ml\u001b[0m\u001b[1;33m]\u001b[0m\u001b[1;33m\u001b[0m\u001b[0m\n\u001b[0m\u001b[0;32m      7\u001b[0m \u001b[0msuml\u001b[0m \u001b[1;33m=\u001b[0m \u001b[1;36m0\u001b[0m\u001b[1;33m\u001b[0m\u001b[0m\n\u001b[0;32m      8\u001b[0m \u001b[0msumr\u001b[0m \u001b[1;33m=\u001b[0m \u001b[1;36m0\u001b[0m\u001b[1;33m\u001b[0m\u001b[0m\n",
      "\u001b[1;31mValueError\u001b[0m: invalid literal for int() with base 10: ''"
     ]
    }
   ],
   "source": [
    "x = int(input())\n",
    "\n",
    "\n",
    "int_string = input()\n",
    "l= int_string.split(' ')\n",
    "lst = [int(i) for i in l]\n",
    "suml = 0\n",
    "sumr = 0\n",
    "count = 0\n",
    "count2 = 0\n",
    "for j in range(x):\n",
    "  suml = 0\n",
    "  sumr = 0\n",
    "  for t in range(j):\n",
    "    suml+= lst[t]\n",
    "    count2+=1\n",
    "    #print('suml:{}'.format(suml))\n",
    "    sumr+= lst[7-t-1]\n",
    "    #print('sumr:{}'.format(sumr))\n",
    "  if sumr == suml and count==0 and count2!=0:\n",
    "    print(j)\n",
    "    count+=1\n",
    "if count==0:\n",
    "  print(-1)\n"
   ]
  },
  {
   "cell_type": "code",
   "execution_count": 17,
   "metadata": {},
   "outputs": [
    {
     "name": "stdout",
     "output_type": "stream",
     "text": [
      "123 345 456 678 789\n"
     ]
    },
    {
     "ename": "TypeError",
     "evalue": "'map' object is not subscriptable",
     "output_type": "error",
     "traceback": [
      "\u001b[1;31m---------------------------------------------------------------------------\u001b[0m",
      "\u001b[1;31mTypeError\u001b[0m                                 Traceback (most recent call last)",
      "\u001b[1;32m<ipython-input-17-b4cbd5f3693f>\u001b[0m in \u001b[0;36m<module>\u001b[1;34m()\u001b[0m\n\u001b[0;32m      1\u001b[0m \u001b[0mm\u001b[0m \u001b[1;33m=\u001b[0m \u001b[0mmap\u001b[0m\u001b[1;33m(\u001b[0m\u001b[0mint\u001b[0m\u001b[1;33m(\u001b[0m\u001b[1;33m)\u001b[0m\u001b[1;33m,\u001b[0m\u001b[0minput\u001b[0m\u001b[1;33m(\u001b[0m\u001b[1;33m)\u001b[0m\u001b[1;33m.\u001b[0m\u001b[0msplit\u001b[0m\u001b[1;33m(\u001b[0m\u001b[1;33m)\u001b[0m\u001b[1;33m)\u001b[0m\u001b[1;33m\u001b[0m\u001b[0m\n\u001b[1;32m----> 2\u001b[1;33m \u001b[0mprint\u001b[0m\u001b[1;33m(\u001b[0m\u001b[0mm\u001b[0m\u001b[1;33m[\u001b[0m\u001b[1;36m0\u001b[0m\u001b[1;33m]\u001b[0m\u001b[1;33m)\u001b[0m\u001b[1;33m\u001b[0m\u001b[0m\n\u001b[0m",
      "\u001b[1;31mTypeError\u001b[0m: 'map' object is not subscriptable"
     ]
    }
   ],
   "source": [
    "m = map(int(),input().split())\n",
    "print(m[0])"
   ]
  },
  {
   "cell_type": "code",
   "execution_count": 18,
   "metadata": {},
   "outputs": [
    {
     "name": "stdout",
     "output_type": "stream",
     "text": [
      "7 -7 1 5 2 -4 3 0\n",
      "3\n"
     ]
    }
   ],
   "source": [
    "int_string = input()\n",
    "l= int_string.split(' ')\n",
    "\n",
    "lt = [int(i) for i in l]\n",
    "x = lt[0]\n",
    "lst = lt[1:]\n",
    "\n",
    "\n",
    "suml = 0\n",
    "sumr = 0\n",
    "count = 0\n",
    "count2 = 0\n",
    "for j in range(x):\n",
    "  suml = 0\n",
    "  sumr = 0\n",
    "  for t in range(j):\n",
    "    suml+= lst[t]\n",
    "    count2+=1\n",
    "    #print('suml:{}'.format(suml))\n",
    "    sumr+= lst[7-t-1]\n",
    "    #print('sumr:{}'.format(sumr))\n",
    "  if sumr == suml and count==0 and count2!=0:\n",
    "    print(j)\n",
    "    count+=1\n",
    "if count==0:\n",
    "  print(-1)"
   ]
  },
  {
   "cell_type": "code",
   "execution_count": 20,
   "metadata": {},
   "outputs": [
    {
     "name": "stdout",
     "output_type": "stream",
     "text": [
      "622\n",
      "14 -3 20 7 1 29 -19 3 27 -11 24 2 20 -10 -14 -18 5 18 -25 22 19 4 -18 8 4 14 4 -18 -24 -12 -29 -5 5 -26 28 -7 16 -12 -12 27 11 9 29 -26 24 -11 -16 24 -5 4 -5 -5 -1 13 30 -2 8 8 -25 12 -22 16 9 14 -4 4 -25 3 29 -14 30 -27 22 -28 15 8 20 4 20 29 -8 8 -14 9 -14 -5 7 -19 -27 -15 5 30 -6 -15 2 3 -9 3 -12 15 -4 2 -5 -10 7 8 3 -6 -20 -1 -20 23 12 18 -24 15 -18 -6 -6 9 -4 -9 -26 24 -1 -23 1 -22 27 -1 -15 -23 -13 3 8 -12 20 27 13 -21 28 -7 16 -7 13 -29 -18 -19 -24 -28 -4 -20 20 18 2 1 -1 23 -1 -11 11 -25 -27 9 4 -24 16 -21 13 -20 23 0 -24 9 -24 26 5 -4 -11 7 -29 -9 -5 18 17 -4 21 -28 22 27 -10 10 -14 30 -1 15 -11 16 -12 11 3 7 -4 -20 9 -19 -24 1 3 15 -5 -26 -24 -18 2 26 23 -16 27 7 4 7 -11 17 -1 21 0 22 -27 19 12 3 20 -1 -7 6 11 -26 -17 5 -19 13 17 -15 3 19 15 -29 -9 9 -23 9 -14 -4 6 30 -22 -12 18 10 -16 -12 -13 3 3 25 -13 14 -19 -7 1 -15 -24 -25 -9 -14 26 -4 -13 10 -28 -12 12 -18 -28 9 30 -19 -9 5 26 -19 -4 -3 -10 -4 13 -19 -1 -19 -13 1 -23 24 16 -1 -13 1 14 -9 -12 30 6 16 30 13 -20 -26 -25 21 -29 -21 -6 -4 -17 -18 -5 17 -18 -17 14 -3 12 -2 19 20 11 24 16 18 -25 -23 26 -26 23 16 -7 28 -14 -26 -6 4 4 8 -25 -24 17 -27 -28 -22 18 -7 23 8 0 3 -25 -15 14 -18 -23 14 19 -29 -1 17 13 3 10 -13 6 22 -23 2 26 -27 -25 7 -3 -16 -3 0 2 -1 23 -20 -28 -13 -18 3 14 22 -22 -8 15 16 28 25 12 1 16 28 10 -25 14 -3 23 -17 -1 -3 8 28 18 29 -17 29 -26 27 -21 4 10 19 -2 -17 4 -21 -19 1 16 -7 2 -24 5 -25 -29 1 -21 10 -5 -4 13 1 29 -21 -2 13 -17 1 12 7 11 -25 21 -2 8 4 -27 30 13 -26 8 20 -9 20 -21 -10 -6 -21 28 0 3 -2 23 -24 18 -25 10 -28 7 11 11 -14 -22 28 27 -8 -10 24 -20 15 -13 -10 27 -5 -5 21 30 -12 -23 -1 30 22 -8 13 4 15 12 14 -12 27 -5 30 5 -24 9 14 -21 28 7 9 11 16 -9 -24 -19 22 -21 -6 18 23 -1 -26 -20 -21 -21 9 12 6 -4 27 -25 15 -20 -17 25 9 -12 -6 -28 21 -3 16 -15 22 4 26 9 18 -20 20 -12 -25 22 -15 -7 -12 -29 2 17 25 -20 -25 25 28 13 16 9 -26 -5 24 -15 -3 14 -27 -23 -6 -6 -1 -4 -18 21 6 -8 21 4 -16 29 -15 2 -9 -7 18 17 24 -5 3 -9 1 27 11 -5 17\n",
      "7\n"
     ]
    }
   ],
   "source": [
    "x = int(input())\n",
    "\n",
    "\n",
    "int_string = input()\n",
    "l= int_string.split(' ')\n",
    "lst = [int(i) for i in l]\n",
    "'''int_string = input()\n",
    "l= int_string.split(' ')\n",
    "\n",
    "lt = [int(i) for i in l]\n",
    "x = lt[0]\n",
    "lst = lt[1:]\n",
    "'''\n",
    "\n",
    "suml = 0\n",
    "sumr = 0\n",
    "count = 0\n",
    "count2 = 0\n",
    "for j in range(x):\n",
    "  suml = 0\n",
    "  sumr = 0\n",
    "  for t in range(j):\n",
    "    suml+= lst[t]\n",
    "    count2+=1\n",
    "    #print('suml:{}'.format(suml))\n",
    "    sumr+= lst[7-t-1]\n",
    "    #print('sumr:{}'.format(sumr))\n",
    "  if sumr == suml and count==0 and count2!=0:\n",
    "    print(j)\n",
    "    count+=1\n",
    "if count==0:\n",
    "  print(-1)"
   ]
  },
  {
   "cell_type": "code",
   "execution_count": 28,
   "metadata": {},
   "outputs": [
    {
     "name": "stdout",
     "output_type": "stream",
     "text": [
      "9\n",
      "9 3 6 12 4 32 5 11 19\n",
      "i: 0\n",
      "i: 2\n",
      "i: 4\n",
      "i: 6\n",
      "3 9 12 6 32 4 11 5 19\n"
     ]
    }
   ],
   "source": [
    "x = int(input())\n",
    "inp_str = input().split()\n",
    "lst = [int(i) for i in inp_str]\n",
    "\n",
    "if x%2 ==0:\n",
    "    for i in range(0,x,2):\n",
    "      print('i:',i)\n",
    "      lst[i]+=lst[i+1]\n",
    "      lst[i+1] = lst[i] - lst[i+1]\n",
    "      lst[i] = lst[i] - lst[i+1]\n",
    "else:\n",
    "     for i in range(0,x-1,2):\n",
    "      print('i:',i)\n",
    "      lst[i]+=lst[i+1]\n",
    "      lst[i+1] = lst[i] - lst[i+1]\n",
    "      lst[i] = lst[i] - lst[i+1]\n",
    "    \n",
    "\n",
    "t = \" \".join(str(t) for t in lst)\n",
    "print(t)\n"
   ]
  },
  {
   "cell_type": "code",
   "execution_count": null,
   "metadata": {},
   "outputs": [],
   "source": []
  }
 ],
 "metadata": {
  "kernelspec": {
   "display_name": "Python 3",
   "language": "python",
   "name": "python3"
  },
  "language_info": {
   "codemirror_mode": {
    "name": "ipython",
    "version": 3
   },
   "file_extension": ".py",
   "mimetype": "text/x-python",
   "name": "python",
   "nbconvert_exporter": "python",
   "pygments_lexer": "ipython3",
   "version": "3.6.5"
  }
 },
 "nbformat": 4,
 "nbformat_minor": 2
}
