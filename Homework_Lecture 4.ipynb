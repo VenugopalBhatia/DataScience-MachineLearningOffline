{
 "cells": [
  {
   "cell_type": "markdown",
   "metadata": {},
   "source": [
    "Terrorism Government"
   ]
  },
  {
   "cell_type": "code",
   "execution_count": 16,
   "metadata": {},
   "outputs": [
    {
     "name": "stdout",
     "output_type": "stream",
     "text": [
      "1 Ananda Marga\n"
     ]
    }
   ],
   "source": [
    "\n",
    "#f_o = open(r'C:\\Users\\venug\\Downloads\\terrorismData.csv')\n",
    "import csv\n",
    "f_o = open('terrorismData.csv')\n",
    "data = csv.reader(f_o,skipinitialspace = True)\n",
    "def max(d):\n",
    "  max = 0\n",
    "  for i in d:\n",
    "    if d[i] > max:\n",
    "      max = i\n",
    "  return max\n",
    "l = list(data)\n",
    "d={}\n",
    "def dateCheck(y,m,d):\n",
    "  threshold = 2013*365 + 146\n",
    "  date = (y-1)*365\n",
    "  count = 1\n",
    "  mth = 31\n",
    "\n",
    "  for i in range(1,m):\n",
    "    mth = 30\n",
    "    if i == 2:\n",
    "      mth = 28\n",
    "    elif i%2 != 0:\n",
    "        mth = 31\n",
    "    date+=mth\n",
    "  date+=d\n",
    "  \n",
    "  return date >= threshold\n",
    "\n",
    "for i in range(1,len(l)):\n",
    "  t = False\n",
    "  #print(l[1][0],l[i][1],l[i][2])\n",
    "  if l[i][0]!='' and l[i][1]!='' and l[i][2]!='':\n",
    "    t = dateCheck(int(l[i][0]),int(l[i][1]),int(l[i][2]))\n",
    "  #print(t)\n",
    "  if t:\n",
    "    if l[i][14]!='Unknown':\n",
    "        if l[i][3] == 'India' and l[i][14]!='':\n",
    "          d[l[i][14]] = d.get(l[i][14],0) + 1\n",
    "if d!={}:\n",
    "    m = max(d)    \n",
    "    print(d[m],m)\n",
    "    \n",
    "      \n",
    "  "
   ]
  },
  {
   "cell_type": "code",
   "execution_count": null,
   "metadata": {},
   "outputs": [],
   "source": []
  },
  {
   "cell_type": "code",
   "execution_count": null,
   "metadata": {},
   "outputs": [],
   "source": []
  }
 ],
 "metadata": {
  "kernelspec": {
   "display_name": "Python 3",
   "language": "python",
   "name": "python3"
  },
  "language_info": {
   "codemirror_mode": {
    "name": "ipython",
    "version": 3
   },
   "file_extension": ".py",
   "mimetype": "text/x-python",
   "name": "python",
   "nbconvert_exporter": "python",
   "pygments_lexer": "ipython3",
   "version": "3.6.5"
  }
 },
 "nbformat": 4,
 "nbformat_minor": 2
}
