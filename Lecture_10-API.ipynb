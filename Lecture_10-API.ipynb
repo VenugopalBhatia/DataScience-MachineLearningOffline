{
 "cells": [
  {
   "cell_type": "code",
   "execution_count": 1,
   "metadata": {},
   "outputs": [
    {
     "name": "stdout",
     "output_type": "stream",
     "text": [
      "200\n",
      "https://codingninjas.in/api/v3/courses\n",
      "{'Access-Control-Allow-Headers': 'Access-Control-Allow-Headers, Origin,Accept, X-Requested-With, Content-Type, Access-Control-Request-Method, Access-Control-Request-Headers, Authorization', 'Access-Control-Allow-Methods': 'POST, GET, PUT, DELETE, OPTIONS', 'Access-Control-Allow-Origin': '*', 'Access-Control-Max-Age': '1728000', 'Cache-Control': 'max-age=0, private, must-revalidate', 'Content-Type': 'application/json; charset=utf-8', 'Date': 'Fri, 12 Apr 2019 07:06:24 GMT', 'ETag': 'W/\"0db5fdb51877adef00a047e74ebb8f33\"', 'Server': 'nginx/1.4.6 (Ubuntu)', 'Strict-Transport-Security': 'max-age=31536000; includeSubDomains;', 'X-Content-Type-Options': 'nosniff', 'X-Frame-Options': 'SAMEORIGIN', 'X-Request-Id': 'b4d04081-4c62-419f-9dfb-3a571cafc12b', 'X-Runtime': '0.017232', 'X-XSS-Protection': '1; mode=block', 'transfer-encoding': 'chunked', 'Connection': 'keep-alive'}\n",
      "application/json; charset=utf-8\n"
     ]
    }
   ],
   "source": [
    "import requests\n",
    "response = requests.get('https://codingninjas.in/api/v3/courses')\n",
    "response\n",
    "print(response.status_code)\n",
    "print(response.url)\n",
    "print(response.headers)\n",
    "print(response.headers['Content-type'])"
   ]
  },
  {
   "cell_type": "markdown",
   "metadata": {},
   "source": [
    "+ This data is of two types actual data and metadata. Here response.headers is a metadata and has form of dictionary.\n",
    "+ json library to convert json data to python. loads() function takes text value from response since that is of use to us.\n",
    "+ response.text is string and we need to iterate so loads() function enables us to do that.\n",
    "+ We can make nested dictionaries.\n",
    "\n"
   ]
  },
  {
   "cell_type": "code",
   "execution_count": 2,
   "metadata": {},
   "outputs": [
    {
     "name": "stdout",
     "output_type": "stream",
     "text": [
      "<class 'str'>\n",
      "<class 'dict'>\n"
     ]
    }
   ],
   "source": [
    "import json\n",
    "python_data = json.loads(response.text)\n",
    "print(type(response.text))\n",
    "print(type(python_data))"
   ]
  },
  {
   "cell_type": "code",
   "execution_count": 3,
   "metadata": {
    "scrolled": true
   },
   "outputs": [
    {
     "name": "stdout",
     "output_type": "stream",
     "text": [
      "<class 'list'>\n",
      "Interview Preparation Course\n",
      "C++ Foundation with Data Structures\n",
      "Android Application Development\n",
      "JAVA Foundation with Data Structures\n",
      "Web Development with Ruby on Rails\n",
      "Data Science & Machine Learning Complete\n",
      "Competitive Programming Course\n",
      "Machine Learning Course\n",
      "Ninja Competitive Programmer Track\n",
      "Full Stack Web Development with Node.js\n",
      "Ninja Data Scientist Career Track\n",
      "Ninja Machine Learning Engineer Career Track\n",
      "Ninja Web Developer Career Track\n",
      "Python Foundation with Data Structures\n"
     ]
    }
   ],
   "source": [
    "courses = python_data['data']['courses']\n",
    "print(type(courses))\n",
    "#print(courses)\n",
    "for i in courses:\n",
    "    print(i['name'])"
   ]
  },
  {
   "cell_type": "code",
   "execution_count": 4,
   "metadata": {},
   "outputs": [],
   "source": [
    "response1 = requests.get('https://dog.ceo/api/breeds/list/all')\n",
    "response1 = json.loads(response1.text)"
   ]
  },
  {
   "cell_type": "code",
   "execution_count": 5,
   "metadata": {},
   "outputs": [
    {
     "name": "stdout",
     "output_type": "stream",
     "text": [
      "{'affenpinscher': 0, 'african': 0, 'airedale': 0, 'akita': 0, 'appenzeller': 0, 'basenji': 0, 'beagle': 0, 'bluetick': 0, 'borzoi': 0, 'bouvier': 0, 'boxer': 0, 'brabancon': 0, 'briard': 0, 'bulldog': 2, 'bullterrier': 1, 'cairn': 0, 'cattledog': 1, 'chihuahua': 0, 'chow': 0, 'clumber': 0, 'cockapoo': 0, 'collie': 1, 'coonhound': 0, 'corgi': 1, 'cotondetulear': 0, 'dachshund': 0, 'dalmatian': 0, 'dane': 1, 'deerhound': 1, 'dhole': 0, 'dingo': 0, 'doberman': 0, 'elkhound': 1, 'entlebucher': 0, 'eskimo': 0, 'frise': 1, 'germanshepherd': 0, 'greyhound': 1, 'groenendael': 0, 'hound': 6, 'husky': 0, 'keeshond': 0, 'kelpie': 0, 'komondor': 0, 'kuvasz': 0, 'labrador': 0, 'leonberg': 0, 'lhasa': 0, 'malamute': 0, 'malinois': 0, 'maltese': 0, 'mastiff': 3, 'mexicanhairless': 0, 'mix': 0, 'mountain': 2, 'newfoundland': 0, 'otterhound': 0, 'papillon': 0, 'pekinese': 0, 'pembroke': 0, 'pinscher': 1, 'pointer': 2, 'pomeranian': 0, 'poodle': 3, 'pug': 0, 'puggle': 0, 'pyrenees': 0, 'redbone': 0, 'retriever': 4, 'ridgeback': 1, 'rottweiler': 0, 'saluki': 0, 'samoyed': 0, 'schipperke': 0, 'schnauzer': 2, 'setter': 3, 'sheepdog': 2, 'shiba': 0, 'shihtzu': 0, 'spaniel': 7, 'springer': 1, 'stbernard': 0, 'terrier': 21, 'vizsla': 0, 'weimaraner': 0, 'whippet': 0, 'wolfhound': 1}\n"
     ]
    }
   ],
   "source": [
    "subBreeds = response1['message']\n",
    "d = {}\n",
    "for i in subBreeds:\n",
    "    d[i] = len(subBreeds[i])\n",
    "print(d)"
   ]
  },
  {
   "cell_type": "code",
   "execution_count": 6,
   "metadata": {},
   "outputs": [
    {
     "data": {
      "text/plain": [
       "<Response [200]>"
      ]
     },
     "execution_count": 6,
     "metadata": {},
     "output_type": "execute_result"
    }
   ],
   "source": [
    "response3 = requests.get('http://api.open-notify.org/iss-now.json')\n",
    "response3"
   ]
  },
  {
   "cell_type": "markdown",
   "metadata": {},
   "source": [
    "+ Authentication\n",
    "+ HTTPBasicAuth is a type of authentication system\n",
    "+ requests.get() is a read type function\n",
    "+ requests.post() is a write type function\n",
    "+ json.loads() converts json to python\n",
    "+ json.dumps() converts python to json"
   ]
  },
  {
   "cell_type": "code",
   "execution_count": 7,
   "metadata": {
    "scrolled": true
   },
   "outputs": [
    {
     "data": {
      "text/plain": [
       "<Response [401]>"
      ]
     },
     "execution_count": 7,
     "metadata": {},
     "output_type": "execute_result"
    }
   ],
   "source": [
    "from requests.auth import HTTPBasicAuth\n",
    "response = requests.get('https://api.github.com/users',auth = HTTPBasicAuth('nidhi@codingninjas.in','cnninjas_123'))\n",
    "response"
   ]
  },
  {
   "cell_type": "code",
   "execution_count": 8,
   "metadata": {
    "scrolled": true
   },
   "outputs": [
    {
     "data": {
      "text/plain": [
       "<Response [422]>"
      ]
     },
     "execution_count": 8,
     "metadata": {},
     "output_type": "execute_result"
    }
   ],
   "source": [
    "d = {'name':'DataScience_test','description':'First repository using code','auto_init' : True}\n",
    "requests.post('https://api.github.com/user/repos',data = json.dumps(d),auth = ('VenugopalBhatia','Zeroemission9'))"
   ]
  },
  {
   "cell_type": "markdown",
   "metadata": {},
   "source": [
    "+ OAuth: Last protocol had a shortcoming where the password was revealed. OAuth lets us access private information without needing password. For eg: Taking friend lists\n",
    "+ It is token based where token is the authentication.\n",
    "+ Analogy: Vallet key in luxurious cars which has restrictions for the attendent instead of the normal key.\n",
    "+ The token is just like the vallet key which comes with restrictions. It can only let us access certain things like accessing friends list only and restrict us from actions like say posting on your wall or sending out friend requests.\n",
    "+ So with OAuth authentication we can access certain data with permission and not giving away password. So when we login with Facebook for the first time we give permission to the website, this permission helps generate a token which the website takes to Facebook to then gain access to the Friend List only.\n",
    "\n",
    "+ OAuth:\n",
    "1. Resource Owner: You.\n",
    "2. Client: Coding Ninjas.\n",
    "3. Resource Server: FB Server.\n",
    "4. Auth Server: Authorization Server owned by Facebook. Grants Authorization after user allows.\n",
    "\n",
    "+ First Resource Owner grants permission on the Auth Server. This Auth Server sends an auth code to Client which is valid for a very short period,This auth code when verified  helps generate an access token for the Client. This access token is sent to the Resource Server which helps us take the data.\n",
    "\n",
    "\n"
   ]
  },
  {
   "cell_type": "markdown",
   "metadata": {},
   "source": [
    "### Reddit API"
   ]
  },
  {
   "cell_type": "markdown",
   "metadata": {},
   "source": [
    "+ Scope allows us for the kind of endpoints one can hit.\n",
    "+ headers is a way of identifying yourself. In their log file they store stuff like this user accessed this.\n",
    "\n",
    "\n"
   ]
  },
  {
   "cell_type": "code",
   "execution_count": 9,
   "metadata": {},
   "outputs": [
    {
     "data": {
      "text/plain": [
       "'https://www.reddit.com/login/?dest=https%3A%2F%2Fwww.reddit.com%2Fapi%2Fv1%2Fauthorize%3Fclient_id%3D_8cEC7lbIj38CA%26response_type%3Dcode%26state%3Dabc999%26redirect_uri%3Dhttps%253A%252F%252Fgoogle.com%26duration%3Dtemporary%26scope%3Dread'"
      ]
     },
     "execution_count": 9,
     "metadata": {},
     "output_type": "execute_result"
    }
   ],
   "source": [
    "parameters = {'client_id':'_8cEC7lbIj38CA','response_type':'code','state':'abc999','redirect_uri':'https://google.com','duration':'temporary','scope': ['read']}\n",
    "headers = {'User-agent':'Venugopal Bhatia'}\n",
    "response = requests.get(\"https://www.reddit.com/api/v1/authorize\",params = parameters,headers = headers)\n",
    "response.url"
   ]
  },
  {
   "cell_type": "code",
   "execution_count": 10,
   "metadata": {},
   "outputs": [
    {
     "ename": "NameError",
     "evalue": "name 'dOv3FHFKp294i3EwSkYvz9VGrSY' is not defined",
     "output_type": "error",
     "traceback": [
      "\u001b[1;31m---------------------------------------------------------------------------\u001b[0m",
      "\u001b[1;31mNameError\u001b[0m                                 Traceback (most recent call last)",
      "\u001b[1;32m<ipython-input-10-36047b1962ee>\u001b[0m in \u001b[0;36m<module>\u001b[1;34m()\u001b[0m\n\u001b[1;32m----> 1\u001b[1;33m \u001b[0mcode\u001b[0m \u001b[1;33m=\u001b[0m \u001b[0mdOv3FHFKp294i3EwSkYvz9VGrSY\u001b[0m\u001b[1;33m\u001b[0m\u001b[0m\n\u001b[0m\u001b[0;32m      2\u001b[0m \u001b[0murl\u001b[0m \u001b[1;33m=\u001b[0m \u001b[1;34m'https://www.reddit.com/api/v1/access_token'\u001b[0m\u001b[1;33m\u001b[0m\u001b[0m\n\u001b[0;32m      3\u001b[0m \u001b[0mt\u001b[0m \u001b[1;33m=\u001b[0m \u001b[0mrequests\u001b[0m\u001b[1;33m.\u001b[0m\u001b[0mpost\u001b[0m\u001b[1;33m(\u001b[0m\u001b[0murl\u001b[0m\u001b[1;33m,\u001b[0m\u001b[0mcode\u001b[0m\u001b[1;33m=\u001b[0m \u001b[0mdOv3FHFKp294i3EwSkYvz9VGrSY\u001b[0m\u001b[1;33m)\u001b[0m\u001b[1;33m\u001b[0m\u001b[0m\n",
      "\u001b[1;31mNameError\u001b[0m: name 'dOv3FHFKp294i3EwSkYvz9VGrSY' is not defined"
     ]
    }
   ],
   "source": [
    "code = dOv3FHFKp294i3EwSkYvz9VGrSY\n",
    "url = 'https://www.reddit.com/api/v1/access_token'\n",
    "t = requests.post(url,code= dOv3FHFKp294i3EwSkYvz9VGrSY)"
   ]
  },
  {
   "cell_type": "code",
   "execution_count": null,
   "metadata": {},
   "outputs": [],
   "source": []
  },
  {
   "cell_type": "code",
   "execution_count": null,
   "metadata": {},
   "outputs": [],
   "source": []
  },
  {
   "cell_type": "code",
   "execution_count": null,
   "metadata": {},
   "outputs": [],
   "source": []
  },
  {
   "cell_type": "code",
   "execution_count": null,
   "metadata": {},
   "outputs": [],
   "source": []
  }
 ],
 "metadata": {
  "kernelspec": {
   "display_name": "Python 3",
   "language": "python",
   "name": "python3"
  },
  "language_info": {
   "codemirror_mode": {
    "name": "ipython",
    "version": 3
   },
   "file_extension": ".py",
   "mimetype": "text/x-python",
   "name": "python",
   "nbconvert_exporter": "python",
   "pygments_lexer": "ipython3",
   "version": "3.6.5"
  }
 },
 "nbformat": 4,
 "nbformat_minor": 2
}
