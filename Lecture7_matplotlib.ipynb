{
 "cells": [
  {
   "cell_type": "markdown",
   "metadata": {},
   "source": [
    "+ For showing the plot we call plt.show() after all modifications to the plot have been made.\n",
    "+ Incase we have 3 dimensions to be represented in a 2d plot we may modify the size of the scatter points this is known as bubble graph.\n",
    "+ Scatter is best suited where we can't draw a line through all data points, it helps understand relation between the two parameters plotted.\n",
    "+ Histogram is better for distributions\n",
    "+ Bar graph is better for cases such as frequencies of particular set of entities,say."
   ]
  },
  {
   "cell_type": "code",
   "execution_count": 94,
   "metadata": {},
   "outputs": [
    {
     "data": {
      "image/png": "[encoded data removed]",
      "text/plain": [
       "<Figure size 432x288 with 1 Axes>"
      ]
     },
     "metadata": {},
     "output_type": "display_data"
    }
   ],
   "source": [
    "import numpy as np\n",
    "import matplotlib.pyplot as plt\n",
    "\n",
    "\n",
    "x = np.array([1,2,3,4])\n",
    "y = np.array([1,4,9,16])\n",
    "z = y**2\n",
    "\n",
    "plt.scatter(x,y,s=z*70,marker = 's',facecolors = 'none',edgecolors = 'r',label = 'Scatter')\n",
    "plt.plot(x,y,marker = '>',markersize = 9,markerfacecolor = 'blue',c='g',label = 'Line')\n",
    "plt.xlabel('X')\n",
    "plt.ylabel('Y')\n",
    "plt.title('Killed-Bubble Graph')\n",
    "lgnd = plt.legend(prop={'size':15})\n",
    "\n",
    "plt.show()\n"
   ]
  },
  {
   "cell_type": "code",
   "execution_count": 53,
   "metadata": {},
   "outputs": [
    {
     "data": {
      "text/plain": [
       "Year\n",
       "2017    10900\n",
       "Name: Year, dtype: int64"
      ]
     },
     "execution_count": 53,
     "metadata": {},
     "output_type": "execute_result"
    }
   ],
   "source": [
    "import pandas as pd\n",
    "\n",
    "data = pd.read_csv(r'C:\\Users\\venug\\Downloads\\pdTerrorismData.csv',skipinitialspace = True)\n",
    "\n",
    "YearAttack = data.groupby(data.Year).Year.count()\n",
    "YearAttack\n"
   ]
  },
  {
   "cell_type": "code",
   "execution_count": 81,
   "metadata": {},
   "outputs": [
    {
     "name": "stdout",
     "output_type": "stream",
     "text": [
      "[74 94 57 93 57 22 16 47  6  1 87 71 39 29 18  1 36 46 97  1 90 28 52 42\n",
      " 26 61 88 47 45 54 64 98 25 34  8 78  9 36 72  1 34 70 22 72 71 27 77 94\n",
      " 96 40]\n"
     ]
    },
    {
     "data": {
      "text/plain": [
       "(array([7., 2., 7., 5., 6., 4., 2., 8., 2., 7.]),\n",
       " array([ 1. , 10.7, 20.4, 30.1, 39.8, 49.5, 59.2, 68.9, 78.6, 88.3, 98. ]),\n",
       " <a list of 10 Patch objects>)"
      ]
     },
     "execution_count": 81,
     "metadata": {},
     "output_type": "execute_result"
    },
    {
     "data": {
      "image/png": "[encoded data removed]",
      "text/plain": [
       "<Figure size 432x288 with 1 Axes>"
      ]
     },
     "metadata": {},
     "output_type": "display_data"
    }
   ],
   "source": [
    "x = np.random.randint(0,100,50)\n",
    "xt = np.arange(100,step = 5)\n",
    "print(x)\n",
    "#plt.xticks(xt)\n",
    "plt.hist(x,rwidth = 0.5,align = 'right')"
   ]
  },
  {
   "cell_type": "code",
   "execution_count": null,
   "metadata": {},
   "outputs": [],
   "source": []
  },
  {
   "cell_type": "code",
   "execution_count": null,
   "metadata": {},
   "outputs": [],
   "source": []
  },
  {
   "cell_type": "code",
   "execution_count": null,
   "metadata": {},
   "outputs": [],
   "source": []
  },
  {
   "cell_type": "code",
   "execution_count": null,
   "metadata": {},
   "outputs": [],
   "source": []
  },
  {
   "cell_type": "code",
   "execution_count": null,
   "metadata": {},
   "outputs": [],
   "source": []
  },
  {
   "cell_type": "code",
   "execution_count": null,
   "metadata": {},
   "outputs": [],
   "source": []
  }
 ],
 "metadata": {
  "kernelspec": {
   "display_name": "Python 3",
   "language": "python",
   "name": "python3"
  },
  "language_info": {
   "codemirror_mode": {
    "name": "ipython",
    "version": 3
   },
   "file_extension": ".py",
   "mimetype": "text/x-python",
   "name": "python",
   "nbconvert_exporter": "python",
   "pygments_lexer": "ipython3",
   "version": "3.6.5"
  }
 },
 "nbformat": 4,
 "nbformat_minor": 2
}
