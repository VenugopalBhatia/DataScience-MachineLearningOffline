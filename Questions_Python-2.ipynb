{
 "cells": [
  {
   "cell_type": "code",
   "execution_count": null,
   "metadata": {},
   "outputs": [],
   "source": []
  },
  {
   "cell_type": "code",
   "execution_count": null,
   "metadata": {},
   "outputs": [],
   "source": [
    "N = int(input())\n",
    "if N == 2:\n",
    "  print(2)\n",
    "elif N == 1:\n",
    "  print(1)\n",
    "else:\n",
    "  for i in range(2,N):\n",
    "    count = 0\n",
    "    for j in range(2,N//2):\n",
    "        if i%(j) == 0 and i!=j:\n",
    "            count+=1\n",
    "            break\n",
    "    if count == 0:\n",
    "      print(i)\n",
    "  "
   ]
  },
  {
   "cell_type": "code",
   "execution_count": 28,
   "metadata": {},
   "outputs": [
    {
     "name": "stdout",
     "output_type": "stream",
     "text": [
      "5\n",
      "1 \n",
      "\n",
      "3 2 \n",
      "\n",
      "4 5 6 \n",
      "\n",
      "10 9 8 7 \n",
      "\n",
      "11 12 13 14 15 \n",
      "\n"
     ]
    }
   ],
   "source": [
    "n = int(input())\n",
    "count = 1\n",
    "for i in range(n):\n",
    "  #print('i:',i)\n",
    "  if i%2 == 0:\n",
    "    #print('yes i:',i)\n",
    "    #print('count:{}'.format(count))\n",
    "    for j in range(i+1):\n",
    "        #print('j:{},count:{}'.format(j,count))\n",
    "        #print('count:{}'.format(count))\n",
    "        print(count,end=' ')\n",
    "        count+=1\n",
    "        #print('count:{}'.format(count))\n",
    "  else:\n",
    "   # print('count:{}'.format(count))\n",
    "    for j in range(i+1):\n",
    "        print(count+i-j,end=' ')\n",
    "        #count+=1\n",
    "    count=count+i+1   #print('count:{}'.format(count))\n",
    "  print('\\n')"
   ]
  },
  {
   "cell_type": "code",
   "execution_count": 1,
   "metadata": {},
   "outputs": [
    {
     "name": "stdout",
     "output_type": "stream",
     "text": [
      "12\n",
      "3\n",
      "8\n",
      "12\n",
      "1100\n"
     ]
    }
   ],
   "source": [
    "x = int(input())\n",
    "n=0\n",
    "sum=0\n",
    "sumd=0\n",
    "while 2**(n+1) < x:\n",
    "  n+=1\n",
    "#print(n)\n",
    "if 2**n == x:\n",
    "  print(10**n)\n",
    "else:\n",
    "  while sum!=x:\n",
    "    sum=sum+2**n\n",
    "    #print(sum)\n",
    "    sumd=sumd+10**n\n",
    "    n-=1\n",
    "  print(sumd)\n",
    "    "
   ]
  },
  {
   "cell_type": "code",
   "execution_count": null,
   "metadata": {},
   "outputs": [],
   "source": []
  },
  {
   "cell_type": "code",
   "execution_count": null,
   "metadata": {},
   "outputs": [],
   "source": []
  }
 ],
 "metadata": {
  "kernelspec": {
   "display_name": "Python 3",
   "language": "python",
   "name": "python3"
  },
  "language_info": {
   "codemirror_mode": {
    "name": "ipython",
    "version": 3
   },
   "file_extension": ".py",
   "mimetype": "text/x-python",
   "name": "python",
   "nbconvert_exporter": "python",
   "pygments_lexer": "ipython3",
   "version": "3.6.5"
  }
 },
 "nbformat": 4,
 "nbformat_minor": 2
}
